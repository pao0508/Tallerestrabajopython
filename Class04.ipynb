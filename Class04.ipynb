{
  "nbformat": 4,
  "nbformat_minor": 0,
  "metadata": {
    "colab": {
      "provenance": []
    },
    "kernelspec": {
      "name": "python3",
      "display_name": "Python 3"
    },
    "language_info": {
      "name": "python"
    }
  },
  "cells": [
    {
      "cell_type": "markdown",
      "source": [
        "CICLOS REPETITIVOS\n",
        "For: repeticiones finitas. range. for i in \n",
        "While: es verdadero.\n",
        "\n",
        "Taller de refuerzo solucionado al final."
      ],
      "metadata": {
        "id": "WAiWVOrk3X1V"
      }
    },
    {
      "cell_type": "markdown",
      "source": [
        "CICLO FOR"
      ],
      "metadata": {
        "id": "gC7lSkB93WTV"
      }
    },
    {
      "cell_type": "code",
      "execution_count": null,
      "metadata": {
        "colab": {
          "base_uri": "https://localhost:8080/"
        },
        "id": "4uGakiQI3Sod",
        "outputId": "40a67782-6b9e-48be-9b69-fff6c6ea01cd"
      },
      "outputs": [
        {
          "output_type": "stream",
          "name": "stdout",
          "text": [
            "1\n",
            "2\n",
            "3\n",
            "4\n"
          ]
        }
      ],
      "source": [
        "for w in (1,2,3,4):\n",
        " print(w)"
      ]
    },
    {
      "cell_type": "code",
      "source": [
        "for w in \"1,2,3,4\":\n",
        "  print(w)"
      ],
      "metadata": {
        "colab": {
          "base_uri": "https://localhost:8080/"
        },
        "id": "TLnQ7C3BCzU4",
        "outputId": "c61681a5-aa71-4bb0-cfde-7e947ee58b1a"
      },
      "execution_count": null,
      "outputs": [
        {
          "output_type": "stream",
          "name": "stdout",
          "text": [
            "1\n",
            ",\n",
            "2\n",
            ",\n",
            "3\n",
            ",\n",
            "4\n"
          ]
        }
      ]
    },
    {
      "cell_type": "code",
      "source": [
        "for w in \"Dagoberto\":\n",
        "  print(w)"
      ],
      "metadata": {
        "colab": {
          "base_uri": "https://localhost:8080/"
        },
        "id": "-puVkfCdC3sz",
        "outputId": "7491f943-7622-4ba2-a684-fb00bdfe3838"
      },
      "execution_count": null,
      "outputs": [
        {
          "output_type": "stream",
          "name": "stdout",
          "text": [
            "D\n",
            "a\n",
            "g\n",
            "o\n",
            "b\n",
            "e\n",
            "r\n",
            "t\n",
            "o\n"
          ]
        }
      ]
    },
    {
      "cell_type": "markdown",
      "source": [
        "FUNCIÓN Range(start, stop, step)\n",
        "cuando solo se pasa 1 parámetro a la función Range por default (stop"
      ],
      "metadata": {
        "id": "2zfc239DC8-q"
      }
    },
    {
      "cell_type": "code",
      "source": [
        "for i in range(0,11,2):\n",
        "  print(i)"
      ],
      "metadata": {
        "colab": {
          "base_uri": "https://localhost:8080/"
        },
        "id": "GTdP1ViuDApO",
        "outputId": "13caec4f-bb06-4804-e5c8-8ec577134c91"
      },
      "execution_count": null,
      "outputs": [
        {
          "output_type": "stream",
          "name": "stdout",
          "text": [
            "0\n",
            "2\n",
            "4\n",
            "6\n",
            "8\n",
            "10\n"
          ]
        }
      ]
    },
    {
      "cell_type": "code",
      "source": [
        "nombre = input(\"Digite su nombre: \")\n",
        "n = int(input(\"Número de repeticiones: \"))\n",
        "\n",
        "for i in range(n):\n",
        "  print(i, nombre)"
      ],
      "metadata": {
        "colab": {
          "base_uri": "https://localhost:8080/"
        },
        "id": "PzdjRReBDHXb",
        "outputId": "b5473bcc-791d-4755-fb66-8240c98a7f22"
      },
      "execution_count": null,
      "outputs": [
        {
          "output_type": "stream",
          "name": "stdout",
          "text": [
            "Digite su nombre: Paola\n",
            "Número de repeticiones: 2\n",
            "0 Paola\n",
            "1 Paola\n"
          ]
        }
      ]
    },
    {
      "cell_type": "markdown",
      "source": [
        "\n",
        "Escribir un programa que realice la tabla de multiplicar de un número digitado por teclado"
      ],
      "metadata": {
        "id": "Og3v8r_3DO5u"
      }
    },
    {
      "cell_type": "code",
      "source": [
        "num = int(input(\"Digite el número de la tabla de multiplicar: \"))\n",
        "\n",
        "for i in range(11):\n",
        "  print(i, \" x \", num, \" = \", i * num)"
      ],
      "metadata": {
        "colab": {
          "base_uri": "https://localhost:8080/"
        },
        "id": "3_3OMvHmDOaJ",
        "outputId": "d10e0ef3-52a5-4d86-beed-b6c764d00111"
      },
      "execution_count": null,
      "outputs": [
        {
          "output_type": "stream",
          "name": "stdout",
          "text": [
            "Digite el número de la tabla de multiplicar: 2\n",
            "0  x  2  =  0\n",
            "1  x  2  =  2\n",
            "2  x  2  =  4\n",
            "3  x  2  =  6\n",
            "4  x  2  =  8\n",
            "5  x  2  =  10\n",
            "6  x  2  =  12\n",
            "7  x  2  =  14\n",
            "8  x  2  =  16\n",
            "9  x  2  =  18\n",
            "10  x  2  =  20\n"
          ]
        }
      ]
    },
    {
      "cell_type": "markdown",
      "source": [
        "Escriba un programa que me sume los números pares del 0 al 10 y saque el total de la suma."
      ],
      "metadata": {
        "id": "rCswcE58DYJJ"
      }
    },
    {
      "cell_type": "code",
      "source": [
        "# variables ACUMULADORAS\n",
        "acu = 0\n",
        "\n",
        "for i in range(0,11,2):\n",
        "  # print(i)\n",
        "  acu = acu + i\n",
        "print(f\"El total de la suma de los números pares del 0-10 = {acu}\")"
      ],
      "metadata": {
        "id": "FunPbxpyDXvX"
      },
      "execution_count": null,
      "outputs": []
    },
    {
      "cell_type": "markdown",
      "source": [
        "CILCO WHILE PYTHON"
      ],
      "metadata": {
        "id": "tukbMvvGDesc"
      }
    },
    {
      "cell_type": "code",
      "source": [
        "x = 0\n",
        "while x <= 10:\n",
        "  print(x)\n",
        "  x = x + 1"
      ],
      "metadata": {
        "colab": {
          "base_uri": "https://localhost:8080/"
        },
        "id": "3c9vqYhGDcBS",
        "outputId": "f0f26811-7f35-4462-db25-05a40c550417"
      },
      "execution_count": null,
      "outputs": [
        {
          "output_type": "stream",
          "name": "stdout",
          "text": [
            "0\n",
            "1\n",
            "2\n",
            "3\n",
            "4\n",
            "5\n",
            "6\n",
            "7\n",
            "8\n",
            "9\n",
            "10\n"
          ]
        }
      ]
    },
    {
      "cell_type": "code",
      "source": [
        "resp = \"si\"\n",
        "while resp == \"si\" or resp == \"SI\" or resp == \"s\":\n",
        "  a = 5\n",
        "  b = 100\n",
        "  c = 10\n",
        "\n",
        "  while a * c < b:\n",
        "    a = a + 5\n",
        "    c = c - 1\n",
        "  print(\"a={}, b={}, c={}\".format(a,b,c))  \n",
        "  resp = input(\"¿Desea ejecutarlo de nuevo? \")"
      ],
      "metadata": {
        "colab": {
          "base_uri": "https://localhost:8080/"
        },
        "id": "XExIYMWLDm_M",
        "outputId": "2f7a937e-478e-4895-aa22-5091641fd783"
      },
      "execution_count": null,
      "outputs": [
        {
          "name": "stdout",
          "output_type": "stream",
          "text": [
            "a=15, b=100, c=8\n",
            "¿Desea ejecutarlo de nuevo? no\n"
          ]
        }
      ]
    },
    {
      "cell_type": "markdown",
      "source": [
        "Se requiere un sw que calcule promedio de tres materia, si es >= 3.0 el estado es Aprueba sino Reprueba, el sistema debe preguntar si desea realizar el caluculo de nuevo, en el que caso de que la respuesta sea afirmativa lo debe realizar de nuevo"
      ],
      "metadata": {
        "id": "32mUqRaqDxQv"
      }
    },
    {
      "cell_type": "code",
      "source": [
        "resp = \"si\"\n",
        "\n",
        "while resp == \"si\" or resp == \"s\" or resp == \"SI\" or resp == \"yes\":\n",
        "  cal1 = float(input(\"Digite la calificación 1: \"))\n",
        "  cal2 = float(input(\"Digite la calificación 2: \"))\n",
        "  cal3 = float(input(\"Digite la calificación 3: \"))\n",
        "\n",
        "  prom = round((cal1 + cal2 + cal3)/3, 2)\n",
        "\n",
        "  if prom >= 3.0:\n",
        "    estado = \"Aprueba\"\n",
        "  else:\n",
        "    estado = \"Reprueba\"\n",
        "  print(f\"El promedio es= {prom} y el estado es= {estado}\")\n",
        "  resp = input(\"¿Desea cálcular el promedio de otras 3 calificaicones? \")\n",
        "  "
      ],
      "metadata": {
        "colab": {
          "base_uri": "https://localhost:8080/"
        },
        "id": "BUcuRdG1DusL",
        "outputId": "9c0b1414-1375-48ab-8cc3-de5f54166d33"
      },
      "execution_count": null,
      "outputs": [
        {
          "name": "stdout",
          "output_type": "stream",
          "text": [
            "Digite la calificación 1: 4\n",
            "Digite la calificación 2: 4\n",
            "Digite la calificación 3: 4\n",
            "El promedio es= 4.0 y el estado es= Aprueba\n",
            "¿Desea cálcular el promedio de otras 3 calificaicones? n\n"
          ]
        }
      ]
    },
    {
      "cell_type": "markdown",
      "source": [
        "Taller Refuerzo\n",
        "\n",
        "https://drive.google.com/file/d/1TP2g86MrLBDFLKAZ9x78zO7E-871Qgy3/view?usp=sharing"
      ],
      "metadata": {
        "id": "TulP0DDjEZoH"
      }
    },
    {
      "cell_type": "markdown",
      "source": [
        "Se necesita un sistema que despliega una tabla de\n",
        "multiplicar de un número dado por el usuario. ciclo for"
      ],
      "metadata": {
        "id": "8xbFClDtEblR"
      }
    },
    {
      "cell_type": "code",
      "source": [
        "res = int(input(\"Digite la tabla de multiplicar que desea consultar: \"))\n",
        "\n",
        "for i in range(11):\n",
        "  print(i, \"x\", res, \"=\", i * res)\n"
      ],
      "metadata": {
        "colab": {
          "base_uri": "https://localhost:8080/"
        },
        "id": "FaHv2IA2bjX2",
        "outputId": "ebec4835-868c-459d-fad7-a9f658d7e104"
      },
      "execution_count": null,
      "outputs": [
        {
          "output_type": "stream",
          "name": "stdout",
          "text": [
            "Digite la tabla de multiplicar que desea consultar: 20\n",
            "0 x 20 = 0\n",
            "1 x 20 = 20\n",
            "2 x 20 = 40\n",
            "3 x 20 = 60\n",
            "4 x 20 = 80\n",
            "5 x 20 = 100\n",
            "6 x 20 = 120\n",
            "7 x 20 = 140\n",
            "8 x 20 = 160\n",
            "9 x 20 = 180\n",
            "10 x 20 = 200\n"
          ]
        }
      ]
    },
    {
      "cell_type": "markdown",
      "source": [
        "Un maestro necesita un sistema para capturar las\n",
        "calificaciones de 5 parciales de sus alumnos, después\n",
        "recapturarlas necesita que se despliegue el promedio,\n",
        "cuando ya no quiera capturar más alumnos, necesita que\n",
        "se despliegue el promedio general de todos los alumnos\n",
        "capturados. Preguntar si desea ejecutar de nuevo el\n",
        "programa con el ciclo while."
      ],
      "metadata": {
        "id": "vcZim3J6c0kR"
      }
    },
    {
      "cell_type": "code",
      "source": [
        "again = \"ok\" \n",
        "\n",
        "count = 0\n",
        "acum = 0\n",
        "\n",
        "while again == \"ok\" or again==\"OK\" or again==\"Ok\" or again==\"oK\":\n",
        "\n",
        "  cal1=float(input(\"Digite calificacion 1: \"))\n",
        "  cal2=float(input(\"Digite calificacion 2: \"))\n",
        "  cal3=float(input(\"Digite calificacion 3: \"))\n",
        "  cal4=float(input(\"Digite calificacion 4: \"))\n",
        "  cal5=float(input(\"Digite calificacion 5: \"))\n",
        "\n",
        "  prom = round((cal1 + cal2 + cal3 + cal4 + cal5)/5,2)\n",
        "\n",
        "  acum = acum + prom\n",
        "\n",
        "  count = count + 1\n",
        "\n",
        "  if prom >= 3:\n",
        "    estado = \"aprobado\"\n",
        "  else: \n",
        "    estado = \"no aprobado\"\n",
        "\n",
        "  print(f\"El promedio es {prom} y el acumulado es= {acum/count}\")\n",
        "\n",
        "  again = input(\"¿Desea cálcular el promedio de otras 5 calificaicones? Contestar con OK \")\n",
        "\n"
      ],
      "metadata": {
        "colab": {
          "base_uri": "https://localhost:8080/"
        },
        "id": "eNCEqXfCc47S",
        "outputId": "262a72f2-8944-40af-f83c-ebfe8d1a0e29"
      },
      "execution_count": null,
      "outputs": [
        {
          "name": "stdout",
          "output_type": "stream",
          "text": [
            "Digite calificacion 1: 4\n",
            "Digite calificacion 2: 4\n",
            "Digite calificacion 3: 4\n",
            "Digite calificacion 4: 4\n",
            "Digite calificacion 5: 4\n",
            "El promedio es 4.0 y el acumulado es= 4.0\n",
            "¿Desea cálcular el promedio de otras 5 calificaicones? Contestar con OK ok\n",
            "Digite calificacion 1: 5\n",
            "Digite calificacion 2: 5\n",
            "Digite calificacion 3: 5\n",
            "Digite calificacion 4: 5\n",
            "Digite calificacion 5: 5\n",
            "El promedio es 5.0 y el acumulado es= 4.5\n",
            "¿Desea cálcular el promedio de otras 5 calificaicones? Contestar con OK n\n"
          ]
        }
      ]
    },
    {
      "cell_type": "markdown",
      "source": [
        "Se necesita un sistema que pida un sueldo de un\n",
        "trabajador, si el sueldo es mayor a 655000, no tedrá\n",
        "ninguna bonificación, pero si es menor tiene bonificación\n",
        "del 4%. Al final se desea saber el total del sueldo con\n",
        "o sin bonificación. Preguntar si desea ejecutar de nuevo\n",
        "el programa con el ciclo while."
      ],
      "metadata": {
        "id": "panzB92-hG0v"
      }
    },
    {
      "cell_type": "code",
      "source": [
        "salario = float(input(\"Por favor indique su salario?: \"))\n",
        "\n",
        "while salario > 0:\n",
        "  \n",
        "  if salario > 655000:\n",
        "    print(f\"No tiene derecho a bonificacion, su salario es $ {salario}\")\n",
        "    salario = float(input(\"¿Desea continuar, por favor indique su salario? \"))\n",
        "  \n",
        "  else:\n",
        "    bono = salario * 0.04\n",
        "    salariot = salario + bono\n",
        "    print(f\"Su bono es ${bono} y su salario total es ${salariot} \")\n",
        "    salario = float(input(\"¿Desea continuar, por favor indique su salario? \"))\n"
      ],
      "metadata": {
        "colab": {
          "base_uri": "https://localhost:8080/"
        },
        "id": "QUa7qHhQhMpI",
        "outputId": "b9be46b1-f6d4-4cd3-ede4-8ba8e97a9f4e"
      },
      "execution_count": null,
      "outputs": [
        {
          "name": "stdout",
          "output_type": "stream",
          "text": [
            "Por favor indique su salario?: 1000000\n",
            "No tiene derecho a bonificacion, su salario es $ 1000000.0\n",
            "¿Desea continuar, por favor indique su salario? 500000\n",
            "Su bono es $20000.0 y su salario total es $520000.0 \n",
            "¿Desea continuar, por favor indique su salario? 0\n"
          ]
        }
      ]
    },
    {
      "cell_type": "markdown",
      "source": [
        "Crear un bucle que cuente todos los números pares hasta\n",
        "el 100 ciclo for"
      ],
      "metadata": {
        "id": "owJLmFsBmTkp"
      }
    },
    {
      "cell_type": "code",
      "source": [
        "count = 0\n",
        "sum = 0\n",
        "\n",
        "for i in range(0,101,2):\n",
        "\n",
        "  sum = sum + i\n",
        "  \n",
        "  if i % 2 == 0:\n",
        "      count = count + 1\n",
        " \n",
        "  else: \n",
        "    pass  \n",
        "    \n",
        "print(f\"La cantidad de pares del 0 al 100 es {count} y su suma es {sum}\")\n"
      ],
      "metadata": {
        "colab": {
          "base_uri": "https://localhost:8080/"
        },
        "id": "1XpnnrFJmYvq",
        "outputId": "439bcaa4-382e-406b-9c66-a63d11ad47f3"
      },
      "execution_count": null,
      "outputs": [
        {
          "output_type": "stream",
          "name": "stdout",
          "text": [
            "La cantidad de pares del 0 al 100 es 51 y su suma es 2550\n"
          ]
        }
      ]
    },
    {
      "cell_type": "markdown",
      "source": [
        "Escribir un programa que pregunte al usuario su edad y\n",
        "muestre por pantalla todos los años que ha cumplido\n",
        "(desde 1 hasta su edad). ciclo for"
      ],
      "metadata": {
        "id": "xR_rYuz4seAC"
      }
    },
    {
      "cell_type": "code",
      "source": [
        "edad= int(input(\"Digite su edad: \"))\n",
        "\n",
        "for edad in range(1,edad+1):\n",
        " print(edad)"
      ],
      "metadata": {
        "colab": {
          "base_uri": "https://localhost:8080/"
        },
        "id": "-s8AzMaLp6dt",
        "outputId": "c09f9ac7-8466-4c82-b76f-457e191bc3a1"
      },
      "execution_count": null,
      "outputs": [
        {
          "output_type": "stream",
          "name": "stdout",
          "text": [
            "Digite su edad: 5\n",
            "1\n",
            "2\n",
            "3\n",
            "4\n",
            "5\n"
          ]
        }
      ]
    }
  ]
}