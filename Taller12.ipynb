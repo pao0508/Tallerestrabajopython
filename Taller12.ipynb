{
  "nbformat": 4,
  "nbformat_minor": 0,
  "metadata": {
    "colab": {
      "provenance": []
    },
    "kernelspec": {
      "name": "python3",
      "display_name": "Python 3"
    },
    "language_info": {
      "name": "python"
    }
  },
  "cells": [
    {
      "cell_type": "markdown",
      "source": [
        "Taller 2:\n",
        "\n",
        "Dando continuidad con la primera entrega del proyecto, en esta oportunidad el estudiante debe realizar las siguientes validaciones utilizando la sentencia condicional IF.\n",
        "\n",
        "TALLER Integrar Ciclos y Funciones en el código del Taller 1 y Taller 2.\n",
        "\n"
      ],
      "metadata": {
        "id": "eH_j90DMZbyv"
      }
    },
    {
      "cell_type": "code",
      "execution_count": null,
      "metadata": {
        "colab": {
          "base_uri": "https://localhost:8080/"
        },
        "id": "WCijnJ3iZMc4",
        "outputId": "02c11079-f419-4ecd-96d8-f382a65177e9"
      },
      "outputs": [
        {
          "name": "stdout",
          "output_type": "stream",
          "text": [
            "Dígite su nombre: Paula\n",
            "Dígite su apellido: Molina\n",
            "Dígite su cedula: 123456\n",
            "Dígite su direccion: Calle 134 12-24\n",
            "Dígite su telefono: 30009876543\n",
            "Dígite su edad: 35\n",
            "Dígite su estado civil: soltera\n",
            "Dígite su número de hijos: 2\n",
            "Dígite su estatura: 1.6\n",
            " fecha contratacion (fechacontratacion),su salario 2000000, y dias laborados 30\n",
            "¿Desea saludar otra persona? s\n",
            "Dígite su nombre: Paola \n",
            "Dígite su apellido: Solarte\n",
            "Dígite su cedula: 345678\n",
            "Dígite su direccion: Calle 156 22-18\n",
            "Dígite su telefono: 3023445667\n",
            "Dígite su edad: 35\n",
            "Dígite su estado civil: casada\n",
            "Dígite su número de hijos: 1\n",
            "Dígite su estatura: 1.7\n",
            " fecha contratacion (fechacontratacion),su salario 2000000, y dias laborados 30\n",
            "¿Desea saludar otra persona? n\n"
          ]
        }
      ],
      "source": [
        "ingreso= \"si\"\n",
        "\n",
        "while ingreso == \"si\" or ingreso == \"s\":\n",
        "  \n",
        "  nombre = input(\"Dígite su nombre: \")\n",
        "  apellido= input(\"Dígite su apellido: \")\n",
        "  noident = input(\"Dígite su cedula: \")\n",
        "  direccion= input(\"Dígite su direccion: \")\n",
        "  telefono= input(\"Dígite su telefono: \")\n",
        "  edad= int(input(\"Dígite su edad: \"))\n",
        "  estado= input(\"Dígite su estado civil: \")\n",
        "  nhijos = int(input(\"Dígite su número de hijos: \"))\n",
        "  estatura = float(input(\"Dígite su estatura: \"))\n",
        "  fechacontratacion= \"25/04/2022\"\n",
        "  salario= 2000000\n",
        "  diaslab= 30\n",
        "  print(f\" fecha contratacion (fechacontratacion),su salario {salario}, y dias laborados {diaslab}\")\n",
        "\n",
        "  ingreso = input(\"¿Desea saludar otra persona? \")"
      ]
    },
    {
      "cell_type": "markdown",
      "source": [
        "Si el empleado es mayor de 55 años disfrutará de un bono de prepensión correspondiente al 5% de su sueldo básico."
      ],
      "metadata": {
        "id": "ZWh9yjkMZZll"
      }
    },
    {
      "cell_type": "code",
      "source": [
        "edad = 56\n",
        "\n",
        "if edad > 55:\n",
        "   bono = salario * 0.05\n",
        "   sueldot = salario + bono\n",
        "   print(\"Su bono es = ${:,.0f} y el total de su sueldo es= ${:,.0f}\".format(bono, sueldot))\n",
        "else:\n",
        "   print(\"No tiene bono, su sueldo es= ${:,.0f}\".format(salario))\n",
        "  \n"
      ],
      "metadata": {
        "colab": {
          "base_uri": "https://localhost:8080/"
        },
        "id": "JJCDAJZ7bwku",
        "outputId": "dc076c84-7cc3-4140-87d8-5d1ff3273ce4"
      },
      "execution_count": null,
      "outputs": [
        {
          "output_type": "stream",
          "name": "stdout",
          "text": [
            "Su bono es = $100,000 y el total de su sueldo es= $2,100,000\n"
          ]
        }
      ]
    },
    {
      "cell_type": "markdown",
      "source": [
        "Si el empleado es casado y tiene hijos se le otorgará un paseo cada diciembre"
      ],
      "metadata": {
        "id": "o-3Fv6sGfXj7"
      }
    },
    {
      "cell_type": "code",
      "source": [
        "if nhijos > 0 and estado == \"casado\" or estado == \"casada\":\n",
        "   print(\"Se le ha otorgado un paseo en diciembre\")\n",
        "else:\n",
        "  print(\"No se le ha otorgado un paseo en diciembre\")"
      ],
      "metadata": {
        "colab": {
          "base_uri": "https://localhost:8080/"
        },
        "id": "uklQ9GVYfe-L",
        "outputId": "7c251bfd-89c7-4567-a593-dbdd6bdb5985"
      },
      "execution_count": null,
      "outputs": [
        {
          "output_type": "stream",
          "name": "stdout",
          "text": [
            "Se le ha otorgado un paseo en diciembre\n"
          ]
        }
      ]
    },
    {
      "cell_type": "markdown",
      "source": [
        "Si el sueldo básico está entre 1000000 y 1500000 tendrá una comisión del 2% sobre el valor del sueldo; Si el sueldo básico está entre 1500001 y 2000000 tendrá una comisión del 5% sobre el valor del sueldo; para todos los demás casos no habrá comisión."
      ],
      "metadata": {
        "id": "UOIIHaGAhAT1"
      }
    },
    {
      "cell_type": "code",
      "source": [
        "if salario > 2000000:\n",
        "  print (f\"No tiene comision su salario es {salario}\")\n",
        "elif salario > 1500000:\n",
        "  comision1=salario * 0.05\n",
        "  salcom1=salario+comision1\n",
        "  print(f\"La comision es {comision1} y su salario total es {salcom1}\")\n",
        "elif salario >= 1000000:\n",
        "  comision2=salario * 0.02\n",
        "  salcom2=salario+comision2\n",
        "  print(f\"La comision es {comision2} y su salario total es {salcom2}\")\n",
        "else:\n",
        "  print(f\"No tiene comision su salario es {salario}\")"
      ],
      "metadata": {
        "colab": {
          "base_uri": "https://localhost:8080/"
        },
        "id": "aP7VqZmLhCPL",
        "outputId": "bc907ad4-1108-4037-c4da-8f887b02dae8"
      },
      "execution_count": null,
      "outputs": [
        {
          "output_type": "stream",
          "name": "stdout",
          "text": [
            "La comision es 100000.0 y su salario total es 2100000.0\n"
          ]
        }
      ]
    },
    {
      "cell_type": "markdown",
      "source": [
        "Si el empleado trabajó más de 20 días al mes y su sueldo es menor a 1000000 tendrá derecho a un bono de alimentación."
      ],
      "metadata": {
        "id": "SlD8mitEhIug"
      }
    },
    {
      "cell_type": "code",
      "source": [
        "if diaslab > 20 and salario < 1000000:\n",
        "   print(\"Se le ha otorgado un bono de alimentacion\")\n",
        "else:\n",
        "  print(\"No tiene derecho a bono de alimentacion\")"
      ],
      "metadata": {
        "colab": {
          "base_uri": "https://localhost:8080/"
        },
        "id": "jIqA8kyDhNj0",
        "outputId": "27def72c-dce0-484b-c24c-e2c4eb17157e"
      },
      "execution_count": null,
      "outputs": [
        {
          "output_type": "stream",
          "name": "stdout",
          "text": [
            "No tiene derecho a bono de alimentacion\n"
          ]
        }
      ]
    },
    {
      "cell_type": "markdown",
      "source": [
        "TALLER\n",
        "Integrar Ciclos y Funciones en el código del Taller 1 y Taller 2."
      ],
      "metadata": {
        "id": "e2FJT3TQXo1V"
      }
    },
    {
      "cell_type": "code",
      "source": [
        "def suma(n1, n2):\n",
        "  res = n1 + n2\n",
        "  return res\n",
        "\n",
        "num1 = int(input(\"Digite el número 1: \"))\n",
        "num2 = int(input(\"Digite el número 2: \"))\n",
        "# print(n1)\n",
        "num3 = 5\n",
        "resultado = suma(num1, num2)\n",
        "print(f\"El resultado es = {resultado}\")"
      ],
      "metadata": {
        "id": "K4T01DVwXrz2"
      },
      "execution_count": null,
      "outputs": []
    },
    {
      "cell_type": "code",
      "source": [],
      "metadata": {
        "id": "6lN0RnJQeqSp"
      },
      "execution_count": null,
      "outputs": []
    }
  ]
}